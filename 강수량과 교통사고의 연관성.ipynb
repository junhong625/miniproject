{
 "cells": [
  {
   "cell_type": "markdown",
   "id": "68e90db9",
   "metadata": {},
   "source": [
    "## 강수량 데이터"
   ]
  },
  {
   "cell_type": "code",
   "execution_count": 443,
   "id": "fcc4bdf8",
   "metadata": {},
   "outputs": [],
   "source": [
    "## 강수량 전체데이터 전처리\n",
    "\n",
    "import csv\n",
    "import pandas as pd\n",
    "\n",
    "df = pd.read_csv('seoul/강수량.csv', encoding='euc-kr', header=7) \n",
    "# 그냥 불러왔을 때 CSV파일에 쓸데 없는 데이터 때문에 에러가 나니 header=7을 통해 csv파일의 7번째 줄부터 데이터를 가져온다.\n",
    "\n",
    "df = df.drop(['지점명'], axis=1)\n",
    "df = df.drop(['\\t지점번호'], axis=1)\n",
    "df = df.drop(['1시간최다강수량(mm)'], axis=1)\n",
    "df = df.drop(['1시간최다강수량시각'], axis=1)\n",
    "df = df.drop(['Unnamed: 6'], axis=1)\n",
    "# 내가 원하는 데이터와 상관없는 데이터들은 삭제하여 보기 좋게 데이터를 고친다. \n",
    "\n",
    "# df = df.fillna(0)\n",
    "# df파일에 fillna 메소드를 통해 NA 즉, 데이터가 들어있지 않은 부분의 value를 0으로 변환한다.\n",
    "# 아주 조금이라도 비가 내린 경우 = 0.0으로 표시, 아예 안 내린 경우 = 0으로 표시\n",
    "\n",
    "#df = df.dropna\n",
    "# df파일에 dropna 메소드를 통해 NA 즉, 데이터가 들어있지 않은 부분의 행을 삭제한다.\n",
    "\n",
    "df.reset_index(inplace=True)\n",
    "df = df.drop(['index'], axis=1) \n",
    "# reset_index 메소드를 실행하면서 생겨난 index column을 삭제한다.\n",
    "\n",
    "df.rename(columns = {'일시':'날짜'}, inplace=True)\n",
    "df = df.set_index(['날짜'])\n",
    "# 보기 좋게 index를 날짜로 설정한다"
   ]
  },
  {
   "cell_type": "code",
   "execution_count": 444,
   "id": "cc2daadc",
   "metadata": {},
   "outputs": [
    {
     "data": {
      "text/html": [
       "<div>\n",
       "<style scoped>\n",
       "    .dataframe tbody tr th:only-of-type {\n",
       "        vertical-align: middle;\n",
       "    }\n",
       "\n",
       "    .dataframe tbody tr th {\n",
       "        vertical-align: top;\n",
       "    }\n",
       "\n",
       "    .dataframe thead th {\n",
       "        text-align: right;\n",
       "    }\n",
       "</style>\n",
       "<table border=\"1\" class=\"dataframe\">\n",
       "  <thead>\n",
       "    <tr style=\"text-align: right;\">\n",
       "      <th></th>\n",
       "      <th>강수량(mm)</th>\n",
       "    </tr>\n",
       "    <tr>\n",
       "      <th>날짜</th>\n",
       "      <th></th>\n",
       "    </tr>\n",
       "  </thead>\n",
       "  <tbody>\n",
       "    <tr>\n",
       "      <th>2016-01-01</th>\n",
       "      <td>NaN</td>\n",
       "    </tr>\n",
       "    <tr>\n",
       "      <th>2016-01-02</th>\n",
       "      <td>NaN</td>\n",
       "    </tr>\n",
       "    <tr>\n",
       "      <th>2016-01-03</th>\n",
       "      <td>NaN</td>\n",
       "    </tr>\n",
       "    <tr>\n",
       "      <th>2016-01-04</th>\n",
       "      <td>NaN</td>\n",
       "    </tr>\n",
       "    <tr>\n",
       "      <th>2016-01-05</th>\n",
       "      <td>NaN</td>\n",
       "    </tr>\n",
       "    <tr>\n",
       "      <th>...</th>\n",
       "      <td>...</td>\n",
       "    </tr>\n",
       "    <tr>\n",
       "      <th>2020-12-27</th>\n",
       "      <td>0.0</td>\n",
       "    </tr>\n",
       "    <tr>\n",
       "      <th>2020-12-28</th>\n",
       "      <td>1.3</td>\n",
       "    </tr>\n",
       "    <tr>\n",
       "      <th>2020-12-29</th>\n",
       "      <td>0.2</td>\n",
       "    </tr>\n",
       "    <tr>\n",
       "      <th>2020-12-30</th>\n",
       "      <td>NaN</td>\n",
       "    </tr>\n",
       "    <tr>\n",
       "      <th>2020-12-31</th>\n",
       "      <td>0.0</td>\n",
       "    </tr>\n",
       "  </tbody>\n",
       "</table>\n",
       "<p>1827 rows × 1 columns</p>\n",
       "</div>"
      ],
      "text/plain": [
       "            강수량(mm)\n",
       "날짜                 \n",
       "2016-01-01      NaN\n",
       "2016-01-02      NaN\n",
       "2016-01-03      NaN\n",
       "2016-01-04      NaN\n",
       "2016-01-05      NaN\n",
       "...             ...\n",
       "2020-12-27      0.0\n",
       "2020-12-28      1.3\n",
       "2020-12-29      0.2\n",
       "2020-12-30      NaN\n",
       "2020-12-31      0.0\n",
       "\n",
       "[1827 rows x 1 columns]"
      ]
     },
     "execution_count": 444,
     "metadata": {},
     "output_type": "execute_result"
    }
   ],
   "source": [
    "df"
   ]
  },
  {
   "cell_type": "code",
   "execution_count": 445,
   "id": "0222431c",
   "metadata": {},
   "outputs": [
    {
     "data": {
      "text/html": [
       "<div>\n",
       "<style scoped>\n",
       "    .dataframe tbody tr th:only-of-type {\n",
       "        vertical-align: middle;\n",
       "    }\n",
       "\n",
       "    .dataframe tbody tr th {\n",
       "        vertical-align: top;\n",
       "    }\n",
       "\n",
       "    .dataframe thead th {\n",
       "        text-align: right;\n",
       "    }\n",
       "</style>\n",
       "<table border=\"1\" class=\"dataframe\">\n",
       "  <thead>\n",
       "    <tr style=\"text-align: right;\">\n",
       "      <th></th>\n",
       "      <th>강수량(mm)</th>\n",
       "    </tr>\n",
       "    <tr>\n",
       "      <th>날짜</th>\n",
       "      <th></th>\n",
       "    </tr>\n",
       "  </thead>\n",
       "  <tbody>\n",
       "    <tr>\n",
       "      <th>2016-07-01</th>\n",
       "      <td>108.5</td>\n",
       "    </tr>\n",
       "    <tr>\n",
       "      <th>2016-07-05</th>\n",
       "      <td>100.5</td>\n",
       "    </tr>\n",
       "    <tr>\n",
       "      <th>2017-07-02</th>\n",
       "      <td>92.0</td>\n",
       "    </tr>\n",
       "    <tr>\n",
       "      <th>2017-07-10</th>\n",
       "      <td>144.5</td>\n",
       "    </tr>\n",
       "    <tr>\n",
       "      <th>2017-07-23</th>\n",
       "      <td>133.5</td>\n",
       "    </tr>\n",
       "    <tr>\n",
       "      <th>2017-08-15</th>\n",
       "      <td>93.5</td>\n",
       "    </tr>\n",
       "    <tr>\n",
       "      <th>2017-08-20</th>\n",
       "      <td>124.5</td>\n",
       "    </tr>\n",
       "    <tr>\n",
       "      <th>2018-05-17</th>\n",
       "      <td>83.0</td>\n",
       "    </tr>\n",
       "    <tr>\n",
       "      <th>2018-07-01</th>\n",
       "      <td>83.5</td>\n",
       "    </tr>\n",
       "    <tr>\n",
       "      <th>2018-08-28</th>\n",
       "      <td>96.5</td>\n",
       "    </tr>\n",
       "    <tr>\n",
       "      <th>2020-07-23</th>\n",
       "      <td>103.1</td>\n",
       "    </tr>\n",
       "    <tr>\n",
       "      <th>2020-08-03</th>\n",
       "      <td>102.6</td>\n",
       "    </tr>\n",
       "    <tr>\n",
       "      <th>2020-08-11</th>\n",
       "      <td>97.0</td>\n",
       "    </tr>\n",
       "    <tr>\n",
       "      <th>2020-11-19</th>\n",
       "      <td>86.9</td>\n",
       "    </tr>\n",
       "  </tbody>\n",
       "</table>\n",
       "</div>"
      ],
      "text/plain": [
       "            강수량(mm)\n",
       "날짜                 \n",
       "2016-07-01    108.5\n",
       "2016-07-05    100.5\n",
       "2017-07-02     92.0\n",
       "2017-07-10    144.5\n",
       "2017-07-23    133.5\n",
       "2017-08-15     93.5\n",
       "2017-08-20    124.5\n",
       "2018-05-17     83.0\n",
       "2018-07-01     83.5\n",
       "2018-08-28     96.5\n",
       "2020-07-23    103.1\n",
       "2020-08-03    102.6\n",
       "2020-08-11     97.0\n",
       "2020-11-19     86.9"
      ]
     },
     "execution_count": 445,
     "metadata": {},
     "output_type": "execute_result"
    }
   ],
   "source": [
    "H = df['강수량(mm)'] >= 80 # 강수량이 80mm 이상인 데이터를 H로 저장 \n",
    "df[H]"
   ]
  },
  {
   "cell_type": "code",
   "execution_count": 446,
   "id": "4738369e",
   "metadata": {},
   "outputs": [
    {
     "data": {
      "text/html": [
       "<div>\n",
       "<style scoped>\n",
       "    .dataframe tbody tr th:only-of-type {\n",
       "        vertical-align: middle;\n",
       "    }\n",
       "\n",
       "    .dataframe tbody tr th {\n",
       "        vertical-align: top;\n",
       "    }\n",
       "\n",
       "    .dataframe thead th {\n",
       "        text-align: right;\n",
       "    }\n",
       "</style>\n",
       "<table border=\"1\" class=\"dataframe\">\n",
       "  <thead>\n",
       "    <tr style=\"text-align: right;\">\n",
       "      <th></th>\n",
       "      <th>강수량(mm)</th>\n",
       "    </tr>\n",
       "    <tr>\n",
       "      <th>날짜</th>\n",
       "      <th></th>\n",
       "    </tr>\n",
       "  </thead>\n",
       "  <tbody>\n",
       "    <tr>\n",
       "      <th>2016-01-13</th>\n",
       "      <td>0.4</td>\n",
       "    </tr>\n",
       "    <tr>\n",
       "      <th>2016-01-14</th>\n",
       "      <td>0.0</td>\n",
       "    </tr>\n",
       "    <tr>\n",
       "      <th>2016-01-16</th>\n",
       "      <td>0.1</td>\n",
       "    </tr>\n",
       "    <tr>\n",
       "      <th>2016-01-18</th>\n",
       "      <td>0.2</td>\n",
       "    </tr>\n",
       "    <tr>\n",
       "      <th>2016-01-23</th>\n",
       "      <td>0.0</td>\n",
       "    </tr>\n",
       "    <tr>\n",
       "      <th>...</th>\n",
       "      <td>...</td>\n",
       "    </tr>\n",
       "    <tr>\n",
       "      <th>2020-12-23</th>\n",
       "      <td>0.0</td>\n",
       "    </tr>\n",
       "    <tr>\n",
       "      <th>2020-12-27</th>\n",
       "      <td>0.0</td>\n",
       "    </tr>\n",
       "    <tr>\n",
       "      <th>2020-12-28</th>\n",
       "      <td>1.3</td>\n",
       "    </tr>\n",
       "    <tr>\n",
       "      <th>2020-12-29</th>\n",
       "      <td>0.2</td>\n",
       "    </tr>\n",
       "    <tr>\n",
       "      <th>2020-12-31</th>\n",
       "      <td>0.0</td>\n",
       "    </tr>\n",
       "  </tbody>\n",
       "</table>\n",
       "<p>690 rows × 1 columns</p>\n",
       "</div>"
      ],
      "text/plain": [
       "            강수량(mm)\n",
       "날짜                 \n",
       "2016-01-13      0.4\n",
       "2016-01-14      0.0\n",
       "2016-01-16      0.1\n",
       "2016-01-18      0.2\n",
       "2016-01-23      0.0\n",
       "...             ...\n",
       "2020-12-23      0.0\n",
       "2020-12-27      0.0\n",
       "2020-12-28      1.3\n",
       "2020-12-29      0.2\n",
       "2020-12-31      0.0\n",
       "\n",
       "[690 rows x 1 columns]"
      ]
     },
     "execution_count": 446,
     "metadata": {},
     "output_type": "execute_result"
    }
   ],
   "source": [
    "M = df['강수량(mm)'] < 80  # 강수량이 80mm 미만인 데이터(0.0 인 날짜들은 비나 눈이 0.00000001mm라도 내린 날들)\n",
    "df[M]"
   ]
  },
  {
   "cell_type": "code",
   "execution_count": 447,
   "id": "d2d41f98",
   "metadata": {},
   "outputs": [
    {
     "data": {
      "text/html": [
       "<div>\n",
       "<style scoped>\n",
       "    .dataframe tbody tr th:only-of-type {\n",
       "        vertical-align: middle;\n",
       "    }\n",
       "\n",
       "    .dataframe tbody tr th {\n",
       "        vertical-align: top;\n",
       "    }\n",
       "\n",
       "    .dataframe thead th {\n",
       "        text-align: right;\n",
       "    }\n",
       "</style>\n",
       "<table border=\"1\" class=\"dataframe\">\n",
       "  <thead>\n",
       "    <tr style=\"text-align: right;\">\n",
       "      <th></th>\n",
       "      <th>강수량(mm)</th>\n",
       "    </tr>\n",
       "    <tr>\n",
       "      <th>날짜</th>\n",
       "      <th></th>\n",
       "    </tr>\n",
       "  </thead>\n",
       "  <tbody>\n",
       "    <tr>\n",
       "      <th>2016-01-01</th>\n",
       "      <td>NaN</td>\n",
       "    </tr>\n",
       "    <tr>\n",
       "      <th>2016-01-02</th>\n",
       "      <td>NaN</td>\n",
       "    </tr>\n",
       "    <tr>\n",
       "      <th>2016-01-03</th>\n",
       "      <td>NaN</td>\n",
       "    </tr>\n",
       "    <tr>\n",
       "      <th>2016-01-04</th>\n",
       "      <td>NaN</td>\n",
       "    </tr>\n",
       "    <tr>\n",
       "      <th>2016-01-05</th>\n",
       "      <td>NaN</td>\n",
       "    </tr>\n",
       "    <tr>\n",
       "      <th>...</th>\n",
       "      <td>...</td>\n",
       "    </tr>\n",
       "    <tr>\n",
       "      <th>2020-12-22</th>\n",
       "      <td>NaN</td>\n",
       "    </tr>\n",
       "    <tr>\n",
       "      <th>2020-12-24</th>\n",
       "      <td>NaN</td>\n",
       "    </tr>\n",
       "    <tr>\n",
       "      <th>2020-12-25</th>\n",
       "      <td>NaN</td>\n",
       "    </tr>\n",
       "    <tr>\n",
       "      <th>2020-12-26</th>\n",
       "      <td>NaN</td>\n",
       "    </tr>\n",
       "    <tr>\n",
       "      <th>2020-12-30</th>\n",
       "      <td>NaN</td>\n",
       "    </tr>\n",
       "  </tbody>\n",
       "</table>\n",
       "<p>1123 rows × 1 columns</p>\n",
       "</div>"
      ],
      "text/plain": [
       "            강수량(mm)\n",
       "날짜                 \n",
       "2016-01-01      NaN\n",
       "2016-01-02      NaN\n",
       "2016-01-03      NaN\n",
       "2016-01-04      NaN\n",
       "2016-01-05      NaN\n",
       "...             ...\n",
       "2020-12-22      NaN\n",
       "2020-12-24      NaN\n",
       "2020-12-25      NaN\n",
       "2020-12-26      NaN\n",
       "2020-12-30      NaN\n",
       "\n",
       "[1123 rows x 1 columns]"
      ]
     },
     "execution_count": 447,
     "metadata": {},
     "output_type": "execute_result"
    }
   ],
   "source": [
    "Z = df['강수량(mm)'].isnull() # 강수량이 0mm인 데이터\n",
    "df[Z]"
   ]
  },
  {
   "cell_type": "markdown",
   "id": "6565deb8",
   "metadata": {},
   "source": [
    "## 교통사고 데이터"
   ]
  },
  {
   "cell_type": "code",
   "execution_count": 448,
   "id": "af1aadba",
   "metadata": {},
   "outputs": [],
   "source": [
    "name = ['2016', '2017', '2018', '2019', '2020'] # 각 년도별로 저장한 파일 이름 리스트"
   ]
  },
  {
   "cell_type": "code",
   "execution_count": 449,
   "id": "cf45f5c6",
   "metadata": {},
   "outputs": [],
   "source": [
    "a=[] # '사고건수'가 들어갈 리스트\n",
    "b=[] # '사망자수'가 들어갈 리스트\n",
    "c=[] # '부상자수'가 들어갈 리스트\n",
    "\n",
    "for n in name: \n",
    "    d = pd.read_excel('seoul/%s.xls'%(n)) # 년도별로 저장한 파일을 불러온다.\n",
    "    d = d.dropna() # 공백 제거\n",
    "    for idx in range(0, 4): \n",
    "        d = d.drop(idx) # 불필요한 데이터 제거\n",
    "    del d['%s'%(n)] # 불필요한 열 제거\n",
    "    d.reset_index(inplace=True, drop=True) # index 재설정(inplace=True를 통해 내용 유지, drop=True를 통해 기존 index 삭제)\n",
    "    columns = list(d.columns) # d에 들어있는 columns(열) 이름 리스트 생성\n",
    "    for i in range(len(columns)): # columns리스트 길이만큼 반복\n",
    "        try: #try except문으로 IndexError 방지\n",
    "            columns[i] = str(columns[i].split('.')[1]) + '일' # columns의 숫자들에 '일'을 붙여줌\n",
    "            if len(columns[i]) == 2: # 1일~9일까지를 01일~09일로 변경\n",
    "                columns[i] = '0'+str(columns[i]) \n",
    "        except IndexError:\n",
    "            continue\n",
    "    d.columns = columns # d의 columns(열)이름 재설정\n",
    "    for i in range(0,34,3): # 월-일 마다의 (사고건수, 사망자수, 부상자수)의 값들을 날짜 순으로 각각 a,b,c에 append\n",
    "        for j in columns[2:]:\n",
    "            if d[j][i] != '-':\n",
    "                a.append(d[j][i])\n",
    "                b.append(d[j][i+1])\n",
    "                c.append(d[j][i+2])\n",
    "            else:\n",
    "                continue"
   ]
  },
  {
   "cell_type": "code",
   "execution_count": 450,
   "id": "eaa96681",
   "metadata": {},
   "outputs": [],
   "source": [
    "days = pd.date_range(start = '2016-01-01', end = '2020-12-31', freq='D') # 2016-01-01일 부터 2020-12-31까지 일자별로 데이터를 days로 생성\n",
    "day = []\n",
    "for i in range(len(days)):\n",
    "    day.append(str(list(days)[i]).split()[0]) # days에서 년-월-일 의 텍스트만 뽑아와서 day리스트에 저장"
   ]
  },
  {
   "cell_type": "code",
   "execution_count": 461,
   "id": "79babab9",
   "metadata": {},
   "outputs": [
    {
     "data": {
      "text/html": [
       "<div>\n",
       "<style scoped>\n",
       "    .dataframe tbody tr th:only-of-type {\n",
       "        vertical-align: middle;\n",
       "    }\n",
       "\n",
       "    .dataframe tbody tr th {\n",
       "        vertical-align: top;\n",
       "    }\n",
       "\n",
       "    .dataframe thead th {\n",
       "        text-align: right;\n",
       "    }\n",
       "</style>\n",
       "<table border=\"1\" class=\"dataframe\">\n",
       "  <thead>\n",
       "    <tr style=\"text-align: right;\">\n",
       "      <th></th>\n",
       "      <th>사고건수</th>\n",
       "      <th>사망자수</th>\n",
       "      <th>부상자수</th>\n",
       "    </tr>\n",
       "    <tr>\n",
       "      <th>날짜</th>\n",
       "      <th></th>\n",
       "      <th></th>\n",
       "      <th></th>\n",
       "    </tr>\n",
       "  </thead>\n",
       "  <tbody>\n",
       "    <tr>\n",
       "      <th>2016-01-01</th>\n",
       "      <td>66</td>\n",
       "      <td>0</td>\n",
       "      <td>98</td>\n",
       "    </tr>\n",
       "    <tr>\n",
       "      <th>2016-01-02</th>\n",
       "      <td>79</td>\n",
       "      <td>1</td>\n",
       "      <td>116</td>\n",
       "    </tr>\n",
       "    <tr>\n",
       "      <th>2016-01-03</th>\n",
       "      <td>75</td>\n",
       "      <td>0</td>\n",
       "      <td>118</td>\n",
       "    </tr>\n",
       "    <tr>\n",
       "      <th>2016-01-04</th>\n",
       "      <td>107</td>\n",
       "      <td>0</td>\n",
       "      <td>165</td>\n",
       "    </tr>\n",
       "    <tr>\n",
       "      <th>2016-01-05</th>\n",
       "      <td>92</td>\n",
       "      <td>0</td>\n",
       "      <td>146</td>\n",
       "    </tr>\n",
       "    <tr>\n",
       "      <th>...</th>\n",
       "      <td>...</td>\n",
       "      <td>...</td>\n",
       "      <td>...</td>\n",
       "    </tr>\n",
       "    <tr>\n",
       "      <th>2020-12-27</th>\n",
       "      <td>40</td>\n",
       "      <td>0</td>\n",
       "      <td>55</td>\n",
       "    </tr>\n",
       "    <tr>\n",
       "      <th>2020-12-28</th>\n",
       "      <td>81</td>\n",
       "      <td>0</td>\n",
       "      <td>110</td>\n",
       "    </tr>\n",
       "    <tr>\n",
       "      <th>2020-12-29</th>\n",
       "      <td>71</td>\n",
       "      <td>0</td>\n",
       "      <td>95</td>\n",
       "    </tr>\n",
       "    <tr>\n",
       "      <th>2020-12-30</th>\n",
       "      <td>89</td>\n",
       "      <td>2</td>\n",
       "      <td>116</td>\n",
       "    </tr>\n",
       "    <tr>\n",
       "      <th>2020-12-31</th>\n",
       "      <td>98</td>\n",
       "      <td>0</td>\n",
       "      <td>126</td>\n",
       "    </tr>\n",
       "  </tbody>\n",
       "</table>\n",
       "<p>1827 rows × 3 columns</p>\n",
       "</div>"
      ],
      "text/plain": [
       "           사고건수 사망자수 부상자수\n",
       "날짜                       \n",
       "2016-01-01   66    0   98\n",
       "2016-01-02   79    1  116\n",
       "2016-01-03   75    0  118\n",
       "2016-01-04  107    0  165\n",
       "2016-01-05   92    0  146\n",
       "...         ...  ...  ...\n",
       "2020-12-27   40    0   55\n",
       "2020-12-28   81    0  110\n",
       "2020-12-29   71    0   95\n",
       "2020-12-30   89    2  116\n",
       "2020-12-31   98    0  126\n",
       "\n",
       "[1827 rows x 3 columns]"
      ]
     },
     "execution_count": 461,
     "metadata": {},
     "output_type": "execute_result"
    }
   ],
   "source": [
    "accident = pd.DataFrame([day, a, b, c]).T # ('날짜', '사고건수', '사망자수', '부상자수') 데이터들을 데이터 프레임으로 생성\n",
    "accident.columns =['날짜', '사고건수', '사망자수', '부상자수'] # columns(열)이름 변경\n",
    "accident = accident.set_index(['날짜']) # index를 ['날짜']의 데이터로 변경\n",
    "accident.to_csv('교통사고.csv', index=False) # 인덱스 제거하고 저장\n",
    "accident"
   ]
  },
  {
   "cell_type": "markdown",
   "id": "cdf334ed",
   "metadata": {},
   "source": [
    "## 강수량과 교통사고 발생수의 연관성 찾기"
   ]
  },
  {
   "cell_type": "code",
   "execution_count": 462,
   "id": "49fbffc0",
   "metadata": {},
   "outputs": [
    {
     "data": {
      "text/html": [
       "<div>\n",
       "<style scoped>\n",
       "    .dataframe tbody tr th:only-of-type {\n",
       "        vertical-align: middle;\n",
       "    }\n",
       "\n",
       "    .dataframe tbody tr th {\n",
       "        vertical-align: top;\n",
       "    }\n",
       "\n",
       "    .dataframe thead th {\n",
       "        text-align: right;\n",
       "    }\n",
       "</style>\n",
       "<table border=\"1\" class=\"dataframe\">\n",
       "  <thead>\n",
       "    <tr style=\"text-align: right;\">\n",
       "      <th></th>\n",
       "      <th>강수량(mm)</th>\n",
       "    </tr>\n",
       "    <tr>\n",
       "      <th>날짜</th>\n",
       "      <th></th>\n",
       "    </tr>\n",
       "  </thead>\n",
       "  <tbody>\n",
       "    <tr>\n",
       "      <th>2016-01-13</th>\n",
       "      <td>0.4</td>\n",
       "    </tr>\n",
       "    <tr>\n",
       "      <th>2016-01-14</th>\n",
       "      <td>0.0</td>\n",
       "    </tr>\n",
       "    <tr>\n",
       "      <th>2016-01-16</th>\n",
       "      <td>0.1</td>\n",
       "    </tr>\n",
       "    <tr>\n",
       "      <th>2016-01-18</th>\n",
       "      <td>0.2</td>\n",
       "    </tr>\n",
       "    <tr>\n",
       "      <th>2016-01-23</th>\n",
       "      <td>0.0</td>\n",
       "    </tr>\n",
       "    <tr>\n",
       "      <th>...</th>\n",
       "      <td>...</td>\n",
       "    </tr>\n",
       "    <tr>\n",
       "      <th>2020-12-23</th>\n",
       "      <td>0.0</td>\n",
       "    </tr>\n",
       "    <tr>\n",
       "      <th>2020-12-27</th>\n",
       "      <td>0.0</td>\n",
       "    </tr>\n",
       "    <tr>\n",
       "      <th>2020-12-28</th>\n",
       "      <td>1.3</td>\n",
       "    </tr>\n",
       "    <tr>\n",
       "      <th>2020-12-29</th>\n",
       "      <td>0.2</td>\n",
       "    </tr>\n",
       "    <tr>\n",
       "      <th>2020-12-31</th>\n",
       "      <td>0.0</td>\n",
       "    </tr>\n",
       "  </tbody>\n",
       "</table>\n",
       "<p>690 rows × 1 columns</p>\n",
       "</div>"
      ],
      "text/plain": [
       "            강수량(mm)\n",
       "날짜                 \n",
       "2016-01-13      0.4\n",
       "2016-01-14      0.0\n",
       "2016-01-16      0.1\n",
       "2016-01-18      0.2\n",
       "2016-01-23      0.0\n",
       "...             ...\n",
       "2020-12-23      0.0\n",
       "2020-12-27      0.0\n",
       "2020-12-28      1.3\n",
       "2020-12-29      0.2\n",
       "2020-12-31      0.0\n",
       "\n",
       "[690 rows x 1 columns]"
      ]
     },
     "execution_count": 462,
     "metadata": {},
     "output_type": "execute_result"
    }
   ],
   "source": [
    "df[M]"
   ]
  },
  {
   "cell_type": "code",
   "execution_count": 463,
   "id": "9f2d883e",
   "metadata": {},
   "outputs": [
    {
     "data": {
      "text/plain": [
       "Index(['2016-07-01', '2016-07-05', '2017-07-02', '2017-07-10', '2017-07-23',\n",
       "       '2017-08-15', '2017-08-20', '2018-05-17', '2018-07-01', '2018-08-28',\n",
       "       '2020-07-23', '2020-08-03', '2020-08-11', '2020-11-19'],\n",
       "      dtype='object', name='날짜')"
      ]
     },
     "execution_count": 463,
     "metadata": {},
     "output_type": "execute_result"
    }
   ],
   "source": [
    "df[H].index"
   ]
  },
  {
   "cell_type": "code",
   "execution_count": 464,
   "id": "e61af983",
   "metadata": {},
   "outputs": [
    {
     "data": {
      "text/plain": [
       "Index(['2016-01-13', '2016-01-14', '2016-01-16', '2016-01-18', '2016-01-23',\n",
       "       '2016-01-26', '2016-02-11', '2016-02-12', '2016-02-13', '2016-02-14',\n",
       "       ...\n",
       "       '2020-11-27', '2020-12-10', '2020-12-13', '2020-12-17', '2020-12-18',\n",
       "       '2020-12-23', '2020-12-27', '2020-12-28', '2020-12-29', '2020-12-31'],\n",
       "      dtype='object', name='날짜', length=690)"
      ]
     },
     "execution_count": 464,
     "metadata": {},
     "output_type": "execute_result"
    }
   ],
   "source": [
    "df[M].index"
   ]
  },
  {
   "cell_type": "code",
   "execution_count": 465,
   "id": "88a74d62",
   "metadata": {},
   "outputs": [
    {
     "data": {
      "text/plain": [
       "Index(['2016-01-01', '2016-01-02', '2016-01-03', '2016-01-04', '2016-01-05',\n",
       "       '2016-01-06', '2016-01-07', '2016-01-08', '2016-01-09', '2016-01-10',\n",
       "       ...\n",
       "       '2020-12-15', '2020-12-16', '2020-12-19', '2020-12-20', '2020-12-21',\n",
       "       '2020-12-22', '2020-12-24', '2020-12-25', '2020-12-26', '2020-12-30'],\n",
       "      dtype='object', name='날짜', length=1123)"
      ]
     },
     "execution_count": 465,
     "metadata": {},
     "output_type": "execute_result"
    }
   ],
   "source": [
    "df[Z].index"
   ]
  },
  {
   "cell_type": "code",
   "execution_count": 466,
   "id": "d70e148b",
   "metadata": {},
   "outputs": [],
   "source": [
    "z = []\n",
    "for i in df[Z].index : # 강수량이 0mm인 데이터들을 모아둔 Z의 인덱스와 accident의 인덱스를 비교한다. 즉, 두 데이터에서 날짜(인덱스)가 같은 날들의 데이터만 뽑아내서 z로 저장한다.\n",
    "    for j in accident.index :\n",
    "        if i == j:\n",
    "            z.append(accident.loc[j]) # .loc[]를 통해 내가 지정한 index에 해당하는 값을 가져올 수 있다.\n",
    "            \n",
    "m = []\n",
    "for i in df[M].index :\n",
    "    for j in accident.index :\n",
    "        if i == j:\n",
    "            m.append(accident.loc[j])\n",
    "        \n",
    "h = []\n",
    "for i in df[H].index :\n",
    "    for j in accident.index :\n",
    "        if i == j:\n",
    "            h.append(accident.loc[j])"
   ]
  },
  {
   "cell_type": "code",
   "execution_count": 467,
   "id": "36058afb",
   "metadata": {},
   "outputs": [
    {
     "data": {
      "text/plain": [
       "14"
      ]
     },
     "execution_count": 467,
     "metadata": {},
     "output_type": "execute_result"
    }
   ],
   "source": [
    "len(h)"
   ]
  },
  {
   "cell_type": "code",
   "execution_count": 468,
   "id": "a0410d16",
   "metadata": {},
   "outputs": [
    {
     "name": "stdout",
     "output_type": "stream",
     "text": [
      "109.57142857142857\n",
      "0.6428571428571429\n",
      "156.85714285714286\n"
     ]
    }
   ],
   "source": [
    "# 강수량이 80mm 이상인 날\n",
    "\n",
    "accident_total = 0\n",
    "death_total = 0\n",
    "injury_total = 0\n",
    "for i in range(len(h)):\n",
    "    accident_total += h[i]['사고건수']\n",
    "    death_total += h[i]['사망자수']\n",
    "    injury_total += h[i]['부상자수']\n",
    "\n",
    "print(accident_total/len(h)) # 평균 사고건수\n",
    "print(death_total / len(h)) # 평균 사망자수\n",
    "print(injury_total / len(h)) # 평균 부상자수"
   ]
  },
  {
   "cell_type": "code",
   "execution_count": 469,
   "id": "a07c9557",
   "metadata": {},
   "outputs": [
    {
     "name": "stdout",
     "output_type": "stream",
     "text": [
      "104.81656277827248\n",
      "0.7693677649154052\n",
      "144.20035618878006\n"
     ]
    }
   ],
   "source": [
    "# 강수량이 0mm인 날\n",
    "\n",
    "zero_accident_total = 0\n",
    "zero_death_total = 0\n",
    "zero_injury_total = 0\n",
    "for i in range(len(z)):\n",
    "    zero_accident_total += z[i]['사고건수']\n",
    "    zero_death_total += z[i]['사망자수']\n",
    "    zero_injury_total += z[i]['부상자수']\n",
    "\n",
    "print(zero_accident_total/len(z)) # 평균 사고건수\n",
    "print(zero_death_total / len(z)) # 평균 사망자수\n",
    "print(zero_injury_total / len(z)) # 평균 부상자수"
   ]
  },
  {
   "cell_type": "code",
   "execution_count": 470,
   "id": "a6f41dd0",
   "metadata": {},
   "outputs": [
    {
     "name": "stdout",
     "output_type": "stream",
     "text": [
      "105.36376811594202\n",
      "0.8565217391304348\n",
      "145.67246376811593\n"
     ]
    }
   ],
   "source": [
    "# 강수량이 80mm 미만인 날\n",
    "\n",
    "Middle_accident_total = 0\n",
    "Middle_death_total = 0\n",
    "Middle_injury_total = 0\n",
    "for i in range(len(m)):\n",
    "    Middle_accident_total += m[i]['사고건수'] \n",
    "    Middle_death_total += m[i]['사망자수']\n",
    "    Middle_injury_total += m[i]['부상자수']\n",
    "\n",
    "print(Middle_accident_total/len(m)) # 평균 사고건수\n",
    "print(Middle_death_total / len(m)) # 평균 사망자수\n",
    "print(Middle_injury_total / len(m)) # 평균 부상자수"
   ]
  },
  {
   "cell_type": "code",
   "execution_count": null,
   "id": "47ce3aed",
   "metadata": {},
   "outputs": [],
   "source": [
    "zero_accident_total,Middle_accident_total,accident_total"
   ]
  },
  {
   "cell_type": "code",
   "execution_count": 471,
   "id": "74fa76cd",
   "metadata": {},
   "outputs": [],
   "source": [
    "zero = [zero_accident_total/len(z), zero_death_total/len(z), zero_injury_total/len(z)]\n",
    "middle = [Middle_accident_total/len(m), Middle_death_total/len(m), Middle_injury_total/len(m)]\n",
    "high = [accident_total/len(h), death_total/len(h), injury_total/len(h)]"
   ]
  },
  {
   "cell_type": "code",
   "execution_count": 525,
   "id": "26bf05f4",
   "metadata": {},
   "outputs": [
    {
     "data": {
      "image/png": "[encoded data removed]",
      "text/plain": [
       "<Figure size 936x936 with 1 Axes>"
      ]
     },
     "metadata": {
      "needs_background": "light"
     },
     "output_type": "display_data"
    }
   ],
   "source": [
    "import matplotlib.pyplot as plt\n",
    "import numpy as np\n",
    "import matplotlib\n",
    "import platform \n",
    "\n",
    "#한글표시\n",
    "if platform.system() == 'Windows': \n",
    "    matplotlib.rc('font', family='Malgun Gothic') \n",
    "elif platform.system() == 'Darwin': # Mac \n",
    "    matplotlib.rc('font', family='AppleGothic') \n",
    "else: #linux \n",
    "    matplotlib.rc('font', family='NanumGothic') \n",
    "\n",
    "# 그래프에 마이너스 표시가 되도록 변경 \n",
    "matplotlib.rcParams['axes.unicode_minus'] = False\n",
    "\n",
    "r = ['사고건수', '사망자수', '부상자수']\n",
    "x = np.arange(len(zero)) # 그래프에 나타날 그룹형 막대의 개수\n",
    "plt.figure(figsize=(13,13)) # 그래프의 사이즈\n",
    "plt.bar(x-0.2, zero, label='강수량 = 0', width=0.2, color='skyblue',edgecolor='gray', linewidth=2)# 강수량이 0인데이터들을 막대로 나타낸다. label은 막대가 나타내는 데이터의 이름, width는 막대의 폭 color는 색상지정\n",
    "plt.bar(x-0.0, middle, label='강수량 < 80', width=0.2, color='blue',edgecolor='gray', linewidth=2)\n",
    "plt.bar(x+0.2, high, label='강수량 > 80', width=0.2, color='darkblue',edgecolor='gray', linewidth=2)\n",
    "plt.title('강수량에 따른 평균 교통사고수', fontsize=20) # 그래프의 제목\n",
    "plt.xticks(x, r, fontsize=15) # 여기서 r은 각 그룹형 막대그래프가 나타낼 데이터들의 이름\n",
    "plt.ylabel('(평균 사고건수), (사망자,부상자 수)', fontsize=15) # y축이 무엇을 나타내는지 알려주기 위한 글을 적는 곳\n",
    "plt.legend() # 각 막대 그래프가 어떤 데이터를 나타내는지 분류해서 보여줌\n",
    "plt.savefig('강수량과 교통사고의 연관성.jpg')"
   ]
  },
  {
   "cell_type": "code",
   "execution_count": 524,
   "id": "48e59d8d",
   "metadata": {},
   "outputs": [
    {
     "data": {
      "image/png": "[encoded data removed]",
      "text/plain": [
       "<Figure size 936x936 with 1 Axes>"
      ]
     },
     "metadata": {
      "needs_background": "light"
     },
     "output_type": "display_data"
    }
   ],
   "source": [
    "number_of_accidents = [zero_death_total/len(z), Middle_death_total/len(m), death_total/len(h)]\n",
    "plt.figure(figsize=(13,13))\n",
    "plt.title(\"사망자수\", fontsize=20)\n",
    "plt.bar(x, number_of_accidents, width=0.2, color=['skyblue', 'blue', 'darkblue'], edgecolor='gray', linewidth=5)\n",
    "plt.ylim(0, max(number_of_accidents)*1.1)\n",
    "plt.xticks(x, ['강수량 = 0', '강수량 < 80', '강수량 >80'], fontsize=15)\n",
    "plt.ylabel('평균 사망자수(명)', fontsize=15)\n",
    "plt.savefig('평균 사망자수')"
   ]
  },
  {
   "cell_type": "code",
   "execution_count": null,
   "id": "61e6cf29",
   "metadata": {},
   "outputs": [],
   "source": []
  }
 ],
 "metadata": {
  "kernelspec": {
   "display_name": "Python 3 (ipykernel)",
   "language": "python",
   "name": "python3"
  },
  "language_info": {
   "codemirror_mode": {
    "name": "ipython",
    "version": 3
   },
   "file_extension": ".py",
   "mimetype": "text/x-python",
   "name": "python",
   "nbconvert_exporter": "python",
   "pygments_lexer": "ipython3",
   "version": "3.8.12"
  }
 },
 "nbformat": 4,
 "nbformat_minor": 5
}
